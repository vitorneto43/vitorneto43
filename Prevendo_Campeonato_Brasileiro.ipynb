{
  "nbformat": 4,
  "nbformat_minor": 0,
  "metadata": {
    "colab": {
      "name": "Prevendo Campeonato Brasileiro.ipynb",
      "provenance": [],
      "authorship_tag": "ABX9TyMYsEb3z/89W9Uh9W7ZEe8i",
      "include_colab_link": true
    },
    "kernelspec": {
      "name": "python3",
      "display_name": "Python 3"
    },
    "language_info": {
      "name": "python"
    }
  },
  "cells": [
    {
      "cell_type": "markdown",
      "metadata": {
        "id": "view-in-github",
        "colab_type": "text"
      },
      "source": [
        "<a href=\"https://colab.research.google.com/github/vitorneto43/vitorneto43/blob/main/Prevendo_Campeonato_Brasileiro.ipynb\" target=\"_parent\"><img src=\"https://colab.research.google.com/assets/colab-badge.svg\" alt=\"Open In Colab\"/></a>"
      ]
    },
    {
      "cell_type": "code",
      "execution_count": 2,
      "metadata": {
        "id": "SnnFN8KxDeOt"
      },
      "outputs": [],
      "source": [
        "#Importando Bibliotecas\n",
        "import pandas as pd\n",
        "import numpy as np\n",
        "from sklearn.linear_model import LogisticRegression\n",
        "from sklearn.tree import DecisionTreeClassifier\n",
        "from sklearn.naive_bayes import GaussianNB\n",
        "from sklearn.svm import SVC\n",
        "from sklearn.metrics import accuracy_score , f1_score, precision_score, recall_score\n",
        "from sklearn.feature_selection import SelectKBest\n",
        "from sklearn.model_selection import  GridSearchCV\n",
        "from sklearn.preprocessing import StandardScaler, MinMaxScaler\n",
        "from IPython.display import display\n",
        "import matplotlib.pyplot as plt\n",
        "import seaborn as sns\n",
        "from sklearn.preprocessing import scale\n",
        "%matplotlib inline\n"
      ]
    },
    {
      "cell_type": "code",
      "source": [
        "data=pd.read_csv('BRA.csv',delimiter=',')\n",
        "display(data.head())"
      ],
      "metadata": {
        "colab": {
          "base_uri": "https://localhost:8080/",
          "height": 473
        },
        "id": "GM-cNEKeMF6c",
        "outputId": "0fb4f317-ac1d-450a-e1e2-1a98457cd379"
      },
      "execution_count": 3,
      "outputs": [
        {
          "output_type": "display_data",
          "data": {
            "text/plain": [
              "  Country   League  game_id  Season      Date   Time          Home  home_id  \\\n",
              "0  Brazil  Serie A        1    2012  19-05-12  22:30     Palmeiras       21   \n",
              "1  Brazil  Serie A        2    2012  19-05-12  22:30  Sport Recife       27   \n",
              "2  Brazil  Serie A        3    2012  20-05-12   1:00   Figueirense       13   \n",
              "3  Brazil  Serie A        4    2012  20-05-12  20:00   Botafogo RJ        7   \n",
              "4  Brazil  Serie A        5    2012  20-05-12  20:00   Corinthians        9   \n",
              "\n",
              "          Away  Away_id  ...  Res    PH    PD    PA  MaxH  MaxD  MaxA  AvgH  \\\n",
              "0   Portuguesa       21  ...    0  1.75  3.86  5.25  1.76  3.87  5.31  1.69   \n",
              "1  Flamengo RJ       27  ...    0  2.83  3.39  2.68  2.83  3.42  2.70  2.59   \n",
              "2      Nautico       13  ...    1  1.60  4.04  6.72  1.67  4.05  7.22  1.59   \n",
              "3    Sao Paulo        7  ...    1  2.49  3.35  3.15  2.49  3.39  3.15  2.35   \n",
              "4   Fluminense        9  ...    2  1.96  3.53  4.41  1.96  3.53  4.41  1.89   \n",
              "\n",
              "   AvgD  AvgA  \n",
              "0  3.50  4.90  \n",
              "1  3.23  2.58  \n",
              "2  3.67  5.64  \n",
              "3  3.26  2.84  \n",
              "4  3.33  3.89  \n",
              "\n",
              "[5 rows x 22 columns]"
            ],
            "text/html": [
              "\n",
              "  <div id=\"df-e3468b0c-21d3-485d-8e04-f3d474bb768a\">\n",
              "    <div class=\"colab-df-container\">\n",
              "      <div>\n",
              "<style scoped>\n",
              "    .dataframe tbody tr th:only-of-type {\n",
              "        vertical-align: middle;\n",
              "    }\n",
              "\n",
              "    .dataframe tbody tr th {\n",
              "        vertical-align: top;\n",
              "    }\n",
              "\n",
              "    .dataframe thead th {\n",
              "        text-align: right;\n",
              "    }\n",
              "</style>\n",
              "<table border=\"1\" class=\"dataframe\">\n",
              "  <thead>\n",
              "    <tr style=\"text-align: right;\">\n",
              "      <th></th>\n",
              "      <th>Country</th>\n",
              "      <th>League</th>\n",
              "      <th>game_id</th>\n",
              "      <th>Season</th>\n",
              "      <th>Date</th>\n",
              "      <th>Time</th>\n",
              "      <th>Home</th>\n",
              "      <th>home_id</th>\n",
              "      <th>Away</th>\n",
              "      <th>Away_id</th>\n",
              "      <th>...</th>\n",
              "      <th>Res</th>\n",
              "      <th>PH</th>\n",
              "      <th>PD</th>\n",
              "      <th>PA</th>\n",
              "      <th>MaxH</th>\n",
              "      <th>MaxD</th>\n",
              "      <th>MaxA</th>\n",
              "      <th>AvgH</th>\n",
              "      <th>AvgD</th>\n",
              "      <th>AvgA</th>\n",
              "    </tr>\n",
              "  </thead>\n",
              "  <tbody>\n",
              "    <tr>\n",
              "      <th>0</th>\n",
              "      <td>Brazil</td>\n",
              "      <td>Serie A</td>\n",
              "      <td>1</td>\n",
              "      <td>2012</td>\n",
              "      <td>19-05-12</td>\n",
              "      <td>22:30</td>\n",
              "      <td>Palmeiras</td>\n",
              "      <td>21</td>\n",
              "      <td>Portuguesa</td>\n",
              "      <td>21</td>\n",
              "      <td>...</td>\n",
              "      <td>0</td>\n",
              "      <td>1.75</td>\n",
              "      <td>3.86</td>\n",
              "      <td>5.25</td>\n",
              "      <td>1.76</td>\n",
              "      <td>3.87</td>\n",
              "      <td>5.31</td>\n",
              "      <td>1.69</td>\n",
              "      <td>3.50</td>\n",
              "      <td>4.90</td>\n",
              "    </tr>\n",
              "    <tr>\n",
              "      <th>1</th>\n",
              "      <td>Brazil</td>\n",
              "      <td>Serie A</td>\n",
              "      <td>2</td>\n",
              "      <td>2012</td>\n",
              "      <td>19-05-12</td>\n",
              "      <td>22:30</td>\n",
              "      <td>Sport Recife</td>\n",
              "      <td>27</td>\n",
              "      <td>Flamengo RJ</td>\n",
              "      <td>27</td>\n",
              "      <td>...</td>\n",
              "      <td>0</td>\n",
              "      <td>2.83</td>\n",
              "      <td>3.39</td>\n",
              "      <td>2.68</td>\n",
              "      <td>2.83</td>\n",
              "      <td>3.42</td>\n",
              "      <td>2.70</td>\n",
              "      <td>2.59</td>\n",
              "      <td>3.23</td>\n",
              "      <td>2.58</td>\n",
              "    </tr>\n",
              "    <tr>\n",
              "      <th>2</th>\n",
              "      <td>Brazil</td>\n",
              "      <td>Serie A</td>\n",
              "      <td>3</td>\n",
              "      <td>2012</td>\n",
              "      <td>20-05-12</td>\n",
              "      <td>1:00</td>\n",
              "      <td>Figueirense</td>\n",
              "      <td>13</td>\n",
              "      <td>Nautico</td>\n",
              "      <td>13</td>\n",
              "      <td>...</td>\n",
              "      <td>1</td>\n",
              "      <td>1.60</td>\n",
              "      <td>4.04</td>\n",
              "      <td>6.72</td>\n",
              "      <td>1.67</td>\n",
              "      <td>4.05</td>\n",
              "      <td>7.22</td>\n",
              "      <td>1.59</td>\n",
              "      <td>3.67</td>\n",
              "      <td>5.64</td>\n",
              "    </tr>\n",
              "    <tr>\n",
              "      <th>3</th>\n",
              "      <td>Brazil</td>\n",
              "      <td>Serie A</td>\n",
              "      <td>4</td>\n",
              "      <td>2012</td>\n",
              "      <td>20-05-12</td>\n",
              "      <td>20:00</td>\n",
              "      <td>Botafogo RJ</td>\n",
              "      <td>7</td>\n",
              "      <td>Sao Paulo</td>\n",
              "      <td>7</td>\n",
              "      <td>...</td>\n",
              "      <td>1</td>\n",
              "      <td>2.49</td>\n",
              "      <td>3.35</td>\n",
              "      <td>3.15</td>\n",
              "      <td>2.49</td>\n",
              "      <td>3.39</td>\n",
              "      <td>3.15</td>\n",
              "      <td>2.35</td>\n",
              "      <td>3.26</td>\n",
              "      <td>2.84</td>\n",
              "    </tr>\n",
              "    <tr>\n",
              "      <th>4</th>\n",
              "      <td>Brazil</td>\n",
              "      <td>Serie A</td>\n",
              "      <td>5</td>\n",
              "      <td>2012</td>\n",
              "      <td>20-05-12</td>\n",
              "      <td>20:00</td>\n",
              "      <td>Corinthians</td>\n",
              "      <td>9</td>\n",
              "      <td>Fluminense</td>\n",
              "      <td>9</td>\n",
              "      <td>...</td>\n",
              "      <td>2</td>\n",
              "      <td>1.96</td>\n",
              "      <td>3.53</td>\n",
              "      <td>4.41</td>\n",
              "      <td>1.96</td>\n",
              "      <td>3.53</td>\n",
              "      <td>4.41</td>\n",
              "      <td>1.89</td>\n",
              "      <td>3.33</td>\n",
              "      <td>3.89</td>\n",
              "    </tr>\n",
              "  </tbody>\n",
              "</table>\n",
              "<p>5 rows × 22 columns</p>\n",
              "</div>\n",
              "      <button class=\"colab-df-convert\" onclick=\"convertToInteractive('df-e3468b0c-21d3-485d-8e04-f3d474bb768a')\"\n",
              "              title=\"Convert this dataframe to an interactive table.\"\n",
              "              style=\"display:none;\">\n",
              "        \n",
              "  <svg xmlns=\"http://www.w3.org/2000/svg\" height=\"24px\"viewBox=\"0 0 24 24\"\n",
              "       width=\"24px\">\n",
              "    <path d=\"M0 0h24v24H0V0z\" fill=\"none\"/>\n",
              "    <path d=\"M18.56 5.44l.94 2.06.94-2.06 2.06-.94-2.06-.94-.94-2.06-.94 2.06-2.06.94zm-11 1L8.5 8.5l.94-2.06 2.06-.94-2.06-.94L8.5 2.5l-.94 2.06-2.06.94zm10 10l.94 2.06.94-2.06 2.06-.94-2.06-.94-.94-2.06-.94 2.06-2.06.94z\"/><path d=\"M17.41 7.96l-1.37-1.37c-.4-.4-.92-.59-1.43-.59-.52 0-1.04.2-1.43.59L10.3 9.45l-7.72 7.72c-.78.78-.78 2.05 0 2.83L4 21.41c.39.39.9.59 1.41.59.51 0 1.02-.2 1.41-.59l7.78-7.78 2.81-2.81c.8-.78.8-2.07 0-2.86zM5.41 20L4 18.59l7.72-7.72 1.47 1.35L5.41 20z\"/>\n",
              "  </svg>\n",
              "      </button>\n",
              "      \n",
              "  <style>\n",
              "    .colab-df-container {\n",
              "      display:flex;\n",
              "      flex-wrap:wrap;\n",
              "      gap: 12px;\n",
              "    }\n",
              "\n",
              "    .colab-df-convert {\n",
              "      background-color: #E8F0FE;\n",
              "      border: none;\n",
              "      border-radius: 50%;\n",
              "      cursor: pointer;\n",
              "      display: none;\n",
              "      fill: #1967D2;\n",
              "      height: 32px;\n",
              "      padding: 0 0 0 0;\n",
              "      width: 32px;\n",
              "    }\n",
              "\n",
              "    .colab-df-convert:hover {\n",
              "      background-color: #E2EBFA;\n",
              "      box-shadow: 0px 1px 2px rgba(60, 64, 67, 0.3), 0px 1px 3px 1px rgba(60, 64, 67, 0.15);\n",
              "      fill: #174EA6;\n",
              "    }\n",
              "\n",
              "    [theme=dark] .colab-df-convert {\n",
              "      background-color: #3B4455;\n",
              "      fill: #D2E3FC;\n",
              "    }\n",
              "\n",
              "    [theme=dark] .colab-df-convert:hover {\n",
              "      background-color: #434B5C;\n",
              "      box-shadow: 0px 1px 3px 1px rgba(0, 0, 0, 0.15);\n",
              "      filter: drop-shadow(0px 1px 2px rgba(0, 0, 0, 0.3));\n",
              "      fill: #FFFFFF;\n",
              "    }\n",
              "  </style>\n",
              "\n",
              "      <script>\n",
              "        const buttonEl =\n",
              "          document.querySelector('#df-e3468b0c-21d3-485d-8e04-f3d474bb768a button.colab-df-convert');\n",
              "        buttonEl.style.display =\n",
              "          google.colab.kernel.accessAllowed ? 'block' : 'none';\n",
              "\n",
              "        async function convertToInteractive(key) {\n",
              "          const element = document.querySelector('#df-e3468b0c-21d3-485d-8e04-f3d474bb768a');\n",
              "          const dataTable =\n",
              "            await google.colab.kernel.invokeFunction('convertToInteractive',\n",
              "                                                     [key], {});\n",
              "          if (!dataTable) return;\n",
              "\n",
              "          const docLinkHtml = 'Like what you see? Visit the ' +\n",
              "            '<a target=\"_blank\" href=https://colab.research.google.com/notebooks/data_table.ipynb>data table notebook</a>'\n",
              "            + ' to learn more about interactive tables.';\n",
              "          element.innerHTML = '';\n",
              "          dataTable['output_type'] = 'display_data';\n",
              "          await google.colab.output.renderOutput(dataTable, element);\n",
              "          const docLink = document.createElement('div');\n",
              "          docLink.innerHTML = docLinkHtml;\n",
              "          element.appendChild(docLink);\n",
              "        }\n",
              "      </script>\n",
              "    </div>\n",
              "  </div>\n",
              "  "
            ]
          },
          "metadata": {}
        }
      ]
    },
    {
      "cell_type": "code",
      "source": [
        "matches = data.shape[0]\n",
        "features = data.shape[1] -1\n",
        "home_win = len(data[data.Res==1])\n",
        "away_win = len(data[data.Res==2])\n",
        "draw = len(data[data.Res==0])\n",
        "val=[home_win,away_win,draw]\n",
        "\n",
        "win_rate = (float(home_win)/(matches)) *100\n",
        "\n",
        "print ('Total de jogos: ', matches)\n",
        "print ('Total de colunas: ', features)\n",
        "print ('Total de jogos ganhos em casa: ', home_win)\n",
        "print ('Total de jogos ganhos pelo visitante: ', away_win)\n",
        "print ('Total de jogos empatados: ', draw)\n",
        "print ('Percentual de jogos ganhos em casa: {:.2f}%'.format( win_rate ))"
      ],
      "metadata": {
        "colab": {
          "base_uri": "https://localhost:8080/"
        },
        "id": "S6S6E6NQMXDG",
        "outputId": "60005f0a-cd62-4cb1-f13b-e765b3f939fb"
      },
      "execution_count": 4,
      "outputs": [
        {
          "output_type": "stream",
          "name": "stdout",
          "text": [
            "Total de jogos:  2279\n",
            "Total de colunas:  21\n",
            "Total de jogos ganhos em casa:  1133\n",
            "Total de jogos ganhos pelo visitante:  553\n",
            "Total de jogos empatados:  593\n",
            "Percentual de jogos ganhos em casa: 49.71%\n"
          ]
        }
      ]
    },
    {
      "cell_type": "code",
      "source": [
        "#Visualizando os dados\n",
        "\n",
        "x = np.arange(3)\n",
        "plt.bar(x, val)\n",
        "plt.xticks(x, ('Home', 'Away', 'Draw'))\n",
        "plt.show()"
      ],
      "metadata": {
        "colab": {
          "base_uri": "https://localhost:8080/",
          "height": 265
        },
        "id": "q_kTsY2dNGPO",
        "outputId": "892af7de-a994-4f4b-b4c6-02e8d607fbc0"
      },
      "execution_count": 5,
      "outputs": [
        {
          "output_type": "display_data",
          "data": {
            "text/plain": [
              "<Figure size 432x288 with 1 Axes>"
            ],
            "image/png": "[encoded data removed]"
          },
          "metadata": {
            "needs_background": "light"
          }
        }
      ]
    },
    {
      "cell_type": "code",
      "source": [
        "#Preparar os dados\n",
        "num_data = data.drop(['Country','League','Season','Date','Time','Home','Away'],1)\n",
        "\n",
        "display(num_data.head())"
      ],
      "metadata": {
        "colab": {
          "base_uri": "https://localhost:8080/",
          "height": 261
        },
        "id": "ynl2TWJYNM02",
        "outputId": "eb042b52-708b-42d8-dcf3-011973d72e76"
      },
      "execution_count": 6,
      "outputs": [
        {
          "output_type": "stream",
          "name": "stderr",
          "text": [
            "/usr/local/lib/python3.7/dist-packages/ipykernel_launcher.py:2: FutureWarning: In a future version of pandas all arguments of DataFrame.drop except for the argument 'labels' will be keyword-only\n",
            "  \n"
          ]
        },
        {
          "output_type": "display_data",
          "data": {
            "text/plain": [
              "   game_id  home_id  Away_id  HG  AG  Res    PH    PD    PA  MaxH  MaxD  MaxA  \\\n",
              "0        1       21       21   1   1    0  1.75  3.86  5.25  1.76  3.87  5.31   \n",
              "1        2       27       27   1   1    0  2.83  3.39  2.68  2.83  3.42  2.70   \n",
              "2        3       13       13   2   1    1  1.60  4.04  6.72  1.67  4.05  7.22   \n",
              "3        4        7        7   4   2    1  2.49  3.35  3.15  2.49  3.39  3.15   \n",
              "4        5        9        9   0   1    2  1.96  3.53  4.41  1.96  3.53  4.41   \n",
              "\n",
              "   AvgH  AvgD  AvgA  \n",
              "0  1.69  3.50  4.90  \n",
              "1  2.59  3.23  2.58  \n",
              "2  1.59  3.67  5.64  \n",
              "3  2.35  3.26  2.84  \n",
              "4  1.89  3.33  3.89  "
            ],
            "text/html": [
              "\n",
              "  <div id=\"df-1f60682d-149e-4e8f-ac98-62dbeb2a5a6f\">\n",
              "    <div class=\"colab-df-container\">\n",
              "      <div>\n",
              "<style scoped>\n",
              "    .dataframe tbody tr th:only-of-type {\n",
              "        vertical-align: middle;\n",
              "    }\n",
              "\n",
              "    .dataframe tbody tr th {\n",
              "        vertical-align: top;\n",
              "    }\n",
              "\n",
              "    .dataframe thead th {\n",
              "        text-align: right;\n",
              "    }\n",
              "</style>\n",
              "<table border=\"1\" class=\"dataframe\">\n",
              "  <thead>\n",
              "    <tr style=\"text-align: right;\">\n",
              "      <th></th>\n",
              "      <th>game_id</th>\n",
              "      <th>home_id</th>\n",
              "      <th>Away_id</th>\n",
              "      <th>HG</th>\n",
              "      <th>AG</th>\n",
              "      <th>Res</th>\n",
              "      <th>PH</th>\n",
              "      <th>PD</th>\n",
              "      <th>PA</th>\n",
              "      <th>MaxH</th>\n",
              "      <th>MaxD</th>\n",
              "      <th>MaxA</th>\n",
              "      <th>AvgH</th>\n",
              "      <th>AvgD</th>\n",
              "      <th>AvgA</th>\n",
              "    </tr>\n",
              "  </thead>\n",
              "  <tbody>\n",
              "    <tr>\n",
              "      <th>0</th>\n",
              "      <td>1</td>\n",
              "      <td>21</td>\n",
              "      <td>21</td>\n",
              "      <td>1</td>\n",
              "      <td>1</td>\n",
              "      <td>0</td>\n",
              "      <td>1.75</td>\n",
              "      <td>3.86</td>\n",
              "      <td>5.25</td>\n",
              "      <td>1.76</td>\n",
              "      <td>3.87</td>\n",
              "      <td>5.31</td>\n",
              "      <td>1.69</td>\n",
              "      <td>3.50</td>\n",
              "      <td>4.90</td>\n",
              "    </tr>\n",
              "    <tr>\n",
              "      <th>1</th>\n",
              "      <td>2</td>\n",
              "      <td>27</td>\n",
              "      <td>27</td>\n",
              "      <td>1</td>\n",
              "      <td>1</td>\n",
              "      <td>0</td>\n",
              "      <td>2.83</td>\n",
              "      <td>3.39</td>\n",
              "      <td>2.68</td>\n",
              "      <td>2.83</td>\n",
              "      <td>3.42</td>\n",
              "      <td>2.70</td>\n",
              "      <td>2.59</td>\n",
              "      <td>3.23</td>\n",
              "      <td>2.58</td>\n",
              "    </tr>\n",
              "    <tr>\n",
              "      <th>2</th>\n",
              "      <td>3</td>\n",
              "      <td>13</td>\n",
              "      <td>13</td>\n",
              "      <td>2</td>\n",
              "      <td>1</td>\n",
              "      <td>1</td>\n",
              "      <td>1.60</td>\n",
              "      <td>4.04</td>\n",
              "      <td>6.72</td>\n",
              "      <td>1.67</td>\n",
              "      <td>4.05</td>\n",
              "      <td>7.22</td>\n",
              "      <td>1.59</td>\n",
              "      <td>3.67</td>\n",
              "      <td>5.64</td>\n",
              "    </tr>\n",
              "    <tr>\n",
              "      <th>3</th>\n",
              "      <td>4</td>\n",
              "      <td>7</td>\n",
              "      <td>7</td>\n",
              "      <td>4</td>\n",
              "      <td>2</td>\n",
              "      <td>1</td>\n",
              "      <td>2.49</td>\n",
              "      <td>3.35</td>\n",
              "      <td>3.15</td>\n",
              "      <td>2.49</td>\n",
              "      <td>3.39</td>\n",
              "      <td>3.15</td>\n",
              "      <td>2.35</td>\n",
              "      <td>3.26</td>\n",
              "      <td>2.84</td>\n",
              "    </tr>\n",
              "    <tr>\n",
              "      <th>4</th>\n",
              "      <td>5</td>\n",
              "      <td>9</td>\n",
              "      <td>9</td>\n",
              "      <td>0</td>\n",
              "      <td>1</td>\n",
              "      <td>2</td>\n",
              "      <td>1.96</td>\n",
              "      <td>3.53</td>\n",
              "      <td>4.41</td>\n",
              "      <td>1.96</td>\n",
              "      <td>3.53</td>\n",
              "      <td>4.41</td>\n",
              "      <td>1.89</td>\n",
              "      <td>3.33</td>\n",
              "      <td>3.89</td>\n",
              "    </tr>\n",
              "  </tbody>\n",
              "</table>\n",
              "</div>\n",
              "      <button class=\"colab-df-convert\" onclick=\"convertToInteractive('df-1f60682d-149e-4e8f-ac98-62dbeb2a5a6f')\"\n",
              "              title=\"Convert this dataframe to an interactive table.\"\n",
              "              style=\"display:none;\">\n",
              "        \n",
              "  <svg xmlns=\"http://www.w3.org/2000/svg\" height=\"24px\"viewBox=\"0 0 24 24\"\n",
              "       width=\"24px\">\n",
              "    <path d=\"M0 0h24v24H0V0z\" fill=\"none\"/>\n",
              "    <path d=\"M18.56 5.44l.94 2.06.94-2.06 2.06-.94-2.06-.94-.94-2.06-.94 2.06-2.06.94zm-11 1L8.5 8.5l.94-2.06 2.06-.94-2.06-.94L8.5 2.5l-.94 2.06-2.06.94zm10 10l.94 2.06.94-2.06 2.06-.94-2.06-.94-.94-2.06-.94 2.06-2.06.94z\"/><path d=\"M17.41 7.96l-1.37-1.37c-.4-.4-.92-.59-1.43-.59-.52 0-1.04.2-1.43.59L10.3 9.45l-7.72 7.72c-.78.78-.78 2.05 0 2.83L4 21.41c.39.39.9.59 1.41.59.51 0 1.02-.2 1.41-.59l7.78-7.78 2.81-2.81c.8-.78.8-2.07 0-2.86zM5.41 20L4 18.59l7.72-7.72 1.47 1.35L5.41 20z\"/>\n",
              "  </svg>\n",
              "      </button>\n",
              "      \n",
              "  <style>\n",
              "    .colab-df-container {\n",
              "      display:flex;\n",
              "      flex-wrap:wrap;\n",
              "      gap: 12px;\n",
              "    }\n",
              "\n",
              "    .colab-df-convert {\n",
              "      background-color: #E8F0FE;\n",
              "      border: none;\n",
              "      border-radius: 50%;\n",
              "      cursor: pointer;\n",
              "      display: none;\n",
              "      fill: #1967D2;\n",
              "      height: 32px;\n",
              "      padding: 0 0 0 0;\n",
              "      width: 32px;\n",
              "    }\n",
              "\n",
              "    .colab-df-convert:hover {\n",
              "      background-color: #E2EBFA;\n",
              "      box-shadow: 0px 1px 2px rgba(60, 64, 67, 0.3), 0px 1px 3px 1px rgba(60, 64, 67, 0.15);\n",
              "      fill: #174EA6;\n",
              "    }\n",
              "\n",
              "    [theme=dark] .colab-df-convert {\n",
              "      background-color: #3B4455;\n",
              "      fill: #D2E3FC;\n",
              "    }\n",
              "\n",
              "    [theme=dark] .colab-df-convert:hover {\n",
              "      background-color: #434B5C;\n",
              "      box-shadow: 0px 1px 3px 1px rgba(0, 0, 0, 0.15);\n",
              "      filter: drop-shadow(0px 1px 2px rgba(0, 0, 0, 0.3));\n",
              "      fill: #FFFFFF;\n",
              "    }\n",
              "  </style>\n",
              "\n",
              "      <script>\n",
              "        const buttonEl =\n",
              "          document.querySelector('#df-1f60682d-149e-4e8f-ac98-62dbeb2a5a6f button.colab-df-convert');\n",
              "        buttonEl.style.display =\n",
              "          google.colab.kernel.accessAllowed ? 'block' : 'none';\n",
              "\n",
              "        async function convertToInteractive(key) {\n",
              "          const element = document.querySelector('#df-1f60682d-149e-4e8f-ac98-62dbeb2a5a6f');\n",
              "          const dataTable =\n",
              "            await google.colab.kernel.invokeFunction('convertToInteractive',\n",
              "                                                     [key], {});\n",
              "          if (!dataTable) return;\n",
              "\n",
              "          const docLinkHtml = 'Like what you see? Visit the ' +\n",
              "            '<a target=\"_blank\" href=https://colab.research.google.com/notebooks/data_table.ipynb>data table notebook</a>'\n",
              "            + ' to learn more about interactive tables.';\n",
              "          element.innerHTML = '';\n",
              "          dataTable['output_type'] = 'display_data';\n",
              "          await google.colab.output.renderOutput(dataTable, element);\n",
              "          const docLink = document.createElement('div');\n",
              "          docLink.innerHTML = docLinkHtml;\n",
              "          element.appendChild(docLink);\n",
              "        }\n",
              "      </script>\n",
              "    </div>\n",
              "  </div>\n",
              "  "
            ]
          },
          "metadata": {}
        }
      ]
    },
    {
      "cell_type": "code",
      "source": [
        "features = num_data.drop(['Res'],1)\n",
        "\n",
        "labels = num_data['Res']\n",
        "\n",
        "print('Features')\n",
        "print (features.head())\n",
        "\n",
        "print ('=========')\n",
        "\n",
        "print ('Labels')\n",
        "print (labels.head())"
      ],
      "metadata": {
        "colab": {
          "base_uri": "https://localhost:8080/"
        },
        "id": "yRe9ts3PNY2P",
        "outputId": "62cb2d49-524f-48d2-fdb5-98c2af3bf7fd"
      },
      "execution_count": 7,
      "outputs": [
        {
          "output_type": "stream",
          "name": "stdout",
          "text": [
            "Features\n",
            "   game_id  home_id  Away_id  HG  AG    PH    PD    PA  MaxH  MaxD  MaxA  \\\n",
            "0        1       21       21   1   1  1.75  3.86  5.25  1.76  3.87  5.31   \n",
            "1        2       27       27   1   1  2.83  3.39  2.68  2.83  3.42  2.70   \n",
            "2        3       13       13   2   1  1.60  4.04  6.72  1.67  4.05  7.22   \n",
            "3        4        7        7   4   2  2.49  3.35  3.15  2.49  3.39  3.15   \n",
            "4        5        9        9   0   1  1.96  3.53  4.41  1.96  3.53  4.41   \n",
            "\n",
            "   AvgH  AvgD  AvgA  \n",
            "0  1.69  3.50  4.90  \n",
            "1  2.59  3.23  2.58  \n",
            "2  1.59  3.67  5.64  \n",
            "3  2.35  3.26  2.84  \n",
            "4  1.89  3.33  3.89  \n",
            "=========\n",
            "Labels\n",
            "0    0\n",
            "1    0\n",
            "2    1\n",
            "3    1\n",
            "4    2\n",
            "Name: Res, dtype: int64\n"
          ]
        },
        {
          "output_type": "stream",
          "name": "stderr",
          "text": [
            "/usr/local/lib/python3.7/dist-packages/ipykernel_launcher.py:1: FutureWarning: In a future version of pandas all arguments of DataFrame.drop except for the argument 'labels' will be keyword-only\n",
            "  \"\"\"Entry point for launching an IPython kernel.\n"
          ]
        }
      ]
    },
    {
      "cell_type": "code",
      "source": [
        "features_list = ('HG','AG','PH','PD','PA','MaxH','MaxD','MaxA','AvgH','AvgD','AvgA')\n",
        "\n",
        "k_best_features = SelectKBest(k='all')\n",
        "k_best_features.fit_transform(features, labels)\n",
        "k_best_features_scores = k_best_features.scores_\n",
        "raw_pairs = zip(features_list[1:], k_best_features_scores)\n",
        "ordered_pairs = list(reversed(sorted(raw_pairs, key=lambda x: x[1])))\n",
        "\n",
        "k_best_features_final = dict(ordered_pairs[:15])\n",
        "best_features = k_best_features_final.keys()\n",
        "print ('')\n",
        "print (\"Melhores features:\")\n",
        "print (k_best_features_final)"
      ],
      "metadata": {
        "colab": {
          "base_uri": "https://localhost:8080/"
        },
        "id": "Jcows1mgNhy2",
        "outputId": "b1fb59a4-81d2-4d02-d94f-02e53747c190"
      },
      "execution_count": 8,
      "outputs": [
        {
          "output_type": "stream",
          "name": "stdout",
          "text": [
            "\n",
            "Melhores features:\n",
            "{'PA': 740.4065621193932, 'MaxH': 731.7074700471329, 'MaxD': 81.51748572743963, 'AvgD': 80.67054047107476, 'AvgH': 63.290872018071454, 'MaxA': 40.62018755299711, 'AvgA': 40.54491193487282, 'AG': 0.6533077251586757, 'PD': 0.027363118243961364, 'PH': 0.027363118243961364}\n"
          ]
        }
      ]
    },
    {
      "cell_type": "code",
      "source": [
        "features = num_data.drop(['Res','game_id','home_id','Away_id', 'AG','PD','PH'],1)\n",
        "\n",
        "labels = num_data['Res']\n",
        "\n",
        "print('Features')\n",
        "print (features.head())\n",
        "\n",
        "print ('=========')\n",
        "\n",
        "print ('Labels')\n",
        "print (labels.head())"
      ],
      "metadata": {
        "colab": {
          "base_uri": "https://localhost:8080/"
        },
        "id": "e4iLkAdcNodU",
        "outputId": "6b71b37c-117f-48f1-8c12-13b28dfdbd29"
      },
      "execution_count": 9,
      "outputs": [
        {
          "output_type": "stream",
          "name": "stdout",
          "text": [
            "Features\n",
            "   HG    PA  MaxH  MaxD  MaxA  AvgH  AvgD  AvgA\n",
            "0   1  5.25  1.76  3.87  5.31  1.69  3.50  4.90\n",
            "1   1  2.68  2.83  3.42  2.70  2.59  3.23  2.58\n",
            "2   2  6.72  1.67  4.05  7.22  1.59  3.67  5.64\n",
            "3   4  3.15  2.49  3.39  3.15  2.35  3.26  2.84\n",
            "4   0  4.41  1.96  3.53  4.41  1.89  3.33  3.89\n",
            "=========\n",
            "Labels\n",
            "0    0\n",
            "1    0\n",
            "2    1\n",
            "3    1\n",
            "4    2\n",
            "Name: Res, dtype: int64\n"
          ]
        },
        {
          "output_type": "stream",
          "name": "stderr",
          "text": [
            "/usr/local/lib/python3.7/dist-packages/ipykernel_launcher.py:1: FutureWarning: In a future version of pandas all arguments of DataFrame.drop except for the argument 'labels' will be keyword-only\n",
            "  \"\"\"Entry point for launching an IPython kernel.\n"
          ]
        }
      ]
    },
    {
      "cell_type": "code",
      "source": [
        "scaler = MinMaxScaler().fit(features)\n",
        "features_scale = scaler.transform(features)\n",
        "\n",
        "print ('Features: ',features_scale.shape)\n",
        "print (features_scale)"
      ],
      "metadata": {
        "colab": {
          "base_uri": "https://localhost:8080/"
        },
        "id": "qrXg13h5Nx1e",
        "outputId": "45205a98-6607-4b52-ce4c-6d8bc05e4c94"
      },
      "execution_count": 10,
      "outputs": [
        {
          "output_type": "stream",
          "name": "stdout",
          "text": [
            "Features:  (2279, 8)\n",
            "[[0.16666667 0.21853547 0.07060334 ... 0.08239095 0.15945946 0.26920093]\n",
            " [0.16666667 0.0715103  0.20795892 ... 0.22778675 0.08648649 0.08921645]\n",
            " [0.33333333 0.30263158 0.05905006 ... 0.06623586 0.20540541 0.32660978]\n",
            " ...\n",
            " [0.16666667 0.41647597 0.02695764 ... 0.03069467 0.50540541 0.48875097]\n",
            " [0.33333333 0.50171625 0.02439024 ... 0.02423263 0.51351351 0.60822343]\n",
            " [0.16666667 0.10526316 0.13863928 ... 0.15831987 0.13783784 0.14041893]]\n"
          ]
        }
      ]
    },
    {
      "cell_type": "code",
      "source": [
        "X_train = features_scale[:1932]\n",
        "X_test = features_scale[1932:2155]\n",
        "y_train = labels[:1932]\n",
        "y_test = labels[1932:2155]\n",
        "\n",
        "print( len(X_train), len(y_train))\n",
        "\n",
        "print( len(X_test), len(y_test))"
      ],
      "metadata": {
        "colab": {
          "base_uri": "https://localhost:8080/"
        },
        "id": "7TDNAf22N4da",
        "outputId": "56bb1815-2d5e-4457-d298-56f8544dfb3c"
      },
      "execution_count": 11,
      "outputs": [
        {
          "output_type": "stream",
          "name": "stdout",
          "text": [
            "1932 1932\n",
            "223 223\n"
          ]
        }
      ]
    },
    {
      "cell_type": "code",
      "source": [
        "#Treinando e testando os modelos\n",
        "print ('LogisticRegression')\n",
        "\n",
        "\n",
        "clf_LR = LogisticRegression(multi_class='multinomial',max_iter=2000)\n",
        "clf_LR.fit(X_train, y_train)\n",
        "pred= clf_LR.predict(X_test)\n",
        "\n",
        "lg_acc = accuracy_score(y_test, pred)\n",
        "f1=f1_score(y_test,pred,average = 'micro')\n",
        "print ('Acurácia LogisticRegression:{}'.format(lg_acc))\n",
        "print ('F1 Score:{}'.format(f1) )"
      ],
      "metadata": {
        "colab": {
          "base_uri": "https://localhost:8080/"
        },
        "id": "u8-dqUVZN-xm",
        "outputId": "b433acbd-7628-45f0-9d5a-644ee4cbf54d"
      },
      "execution_count": 12,
      "outputs": [
        {
          "output_type": "stream",
          "name": "stdout",
          "text": [
            "LogisticRegression\n",
            "Acurácia LogisticRegression:0.57847533632287\n",
            "F1 Score:0.57847533632287\n"
          ]
        }
      ]
    },
    {
      "cell_type": "code",
      "source": [
        "param_grid = {'C': [0.001, 0.01, 0.1, 1, 10, 100, 1000] }\n",
        "\n",
        "search = GridSearchCV(LogisticRegression(max_iter=1000), param_grid)\n",
        "\n",
        "search.fit(X_train,y_train)\n",
        "clf = search.best_estimator_\n",
        "pred= clf.predict(X_test)\n",
        "lg_acc = accuracy_score(y_test, pred)\n",
        "\n",
        "\n",
        "f1=f1_score(y_test,pred,average = 'macro')\n",
        "\n",
        "print ('Acurácia LogisticRegression:{}'.format(lg_acc))\n",
        "print ('F1 Score:{}'.format(f1) )\n",
        "\n",
        "print (clf)"
      ],
      "metadata": {
        "colab": {
          "base_uri": "https://localhost:8080/"
        },
        "id": "_XXny6GmOFlp",
        "outputId": "a2eaa938-9dae-4382-fecb-8c5d281d5bda"
      },
      "execution_count": 13,
      "outputs": [
        {
          "output_type": "stream",
          "name": "stdout",
          "text": [
            "Acurácia LogisticRegression:0.57847533632287\n",
            "F1 Score:0.5282488231236308\n",
            "LogisticRegression(C=1, max_iter=1000)\n"
          ]
        }
      ]
    },
    {
      "cell_type": "code",
      "source": [
        "print ('SVC')\n",
        "\n",
        "\n",
        "clf = SVC()\n",
        "clf.fit(X_train, y_train)\n",
        "pred= clf.predict(X_test)\n",
        "\n",
        "svc_acc = accuracy_score(y_test, pred)\n",
        "f1=f1_score(y_test,pred, average='micro')\n",
        "print ('Acurácia SVC:{}'.format(svc_acc))\n",
        "print ('F1 Score:{}'.format(f1) )"
      ],
      "metadata": {
        "colab": {
          "base_uri": "https://localhost:8080/"
        },
        "id": "amt2rbpwON0W",
        "outputId": "28194c48-9d1b-4ff9-c158-adc3951cff11"
      },
      "execution_count": 14,
      "outputs": [
        {
          "output_type": "stream",
          "name": "stdout",
          "text": [
            "SVC\n",
            "Acurácia SVC:0.57847533632287\n",
            "F1 Score:0.57847533632287\n"
          ]
        }
      ]
    },
    {
      "cell_type": "code",
      "source": [
        "param_grid = {'C': [0.001, 0.01, 0.1, 1, 10, 100, 1000] }\n",
        "\n",
        "search = GridSearchCV(SVC(), param_grid)\n",
        "\n",
        "search.fit(X_train,y_train)\n",
        "clf_SVC = search.best_estimator_\n",
        "pred= clf_SVC.predict(X_test)\n",
        "acc = accuracy_score(y_test, pred)\n",
        "\n",
        "\n",
        "f1=f1_score(y_test,pred,average = 'micro')\n",
        "\n",
        "print ('F1 Score:{}'.format(f1))\n",
        "\n",
        "print ('Acurácia LogisticRegression:{}'.format(acc))\n",
        "\n",
        "print(clf_SVC)"
      ],
      "metadata": {
        "colab": {
          "base_uri": "https://localhost:8080/"
        },
        "id": "rV0vwtKhOTfP",
        "outputId": "706370fc-bc2f-424c-c87c-04b1dcc853e0"
      },
      "execution_count": 15,
      "outputs": [
        {
          "output_type": "stream",
          "name": "stdout",
          "text": [
            "F1 Score:0.5919282511210763\n",
            "Acurácia LogisticRegression:0.5919282511210763\n",
            "SVC(C=100)\n"
          ]
        }
      ]
    },
    {
      "cell_type": "code",
      "source": [
        "print ('Decision Tree')\n",
        "\n",
        "\n",
        "clf = DecisionTreeClassifier()\n",
        "clf.fit(X_train, y_train)\n",
        "pred= clf.predict(X_test)\n",
        "\n",
        "dt_acc = accuracy_score(y_test, pred)\n",
        "f1=f1_score(y_test,pred, average='macro')\n",
        "print ('Acurácia Tree:{}'.format(dt_acc))\n",
        "print ('F1 Score:{}'.format(f1) )\n",
        "\n",
        "\n",
        "n_estimators = [10, 50, 100, 200]\n",
        "max_depth = [3, 10, 20, 40]"
      ],
      "metadata": {
        "colab": {
          "base_uri": "https://localhost:8080/"
        },
        "id": "ziTkWMBvObp2",
        "outputId": "130d80f1-4a61-473b-ad18-e856c9bd6941"
      },
      "execution_count": 16,
      "outputs": [
        {
          "output_type": "stream",
          "name": "stdout",
          "text": [
            "Decision Tree\n",
            "Acurácia Tree:0.4798206278026906\n",
            "F1 Score:0.4532884018452779\n"
          ]
        }
      ]
    },
    {
      "cell_type": "code",
      "source": [
        "print ('Decision Tree')\n",
        "\n",
        "param_grid = {\n",
        "    'max_depth': [80, 90, 100, 110],\n",
        "    'max_features': [2, 3],\n",
        "    'min_samples_leaf': [3, 4, 5],\n",
        "    'min_samples_split': [8, 10, 12]\n",
        "    \n",
        "  \n",
        "}\n",
        "\n",
        "search = GridSearchCV(DecisionTreeClassifier(), param_grid)\n",
        "\n",
        "search.fit(X_train,y_train)\n",
        "clf = search.best_estimator_\n",
        "pred= clf.predict(X_test)\n",
        "dt_acc = accuracy_score(y_test, pred)\n",
        "\n",
        "\n",
        "f1=f1_score(y_test,pred,average = 'micro')\n",
        "\n",
        "print ('Acurácia Decision Tree:{}'.format(dt_acc))\n",
        "print ('F1 Score:{}'.format(f1) )\n",
        "\n",
        "print (clf)"
      ],
      "metadata": {
        "colab": {
          "base_uri": "https://localhost:8080/"
        },
        "id": "-YXL_1gCOhbl",
        "outputId": "1e0ac829-c11c-4ac1-efb7-34324a334763"
      },
      "execution_count": 17,
      "outputs": [
        {
          "output_type": "stream",
          "name": "stdout",
          "text": [
            "Decision Tree\n",
            "Acurácia Decision Tree:0.5022421524663677\n",
            "F1 Score:0.5022421524663677\n",
            "DecisionTreeClassifier(max_depth=90, max_features=3, min_samples_leaf=5,\n",
            "                       min_samples_split=12)\n"
          ]
        }
      ]
    },
    {
      "cell_type": "code",
      "source": [
        "#Treinando e testando os modelos\n",
        "print ('Naive baeys')\n",
        "\n",
        "\n",
        "clf = GaussianNB()\n",
        "clf.fit(X_train, y_train)\n",
        "pred= clf.predict(X_test)\n",
        "\n",
        "nb_acc = accuracy_score(y_test, pred)\n",
        "f1=f1_score(y_test,pred, average='micro')\n",
        "print ('Acurácia Naive baeys:{}'.format(nb_acc))\n",
        "print ('F1 Score:{}'.format(f1) )"
      ],
      "metadata": {
        "colab": {
          "base_uri": "https://localhost:8080/"
        },
        "id": "U0XUzJV2OorJ",
        "outputId": "27289de0-bbf9-4ac9-c98f-b27c58e436a1"
      },
      "execution_count": 18,
      "outputs": [
        {
          "output_type": "stream",
          "name": "stdout",
          "text": [
            "Naive baeys\n",
            "Acurácia Naive baeys:0.5201793721973094\n",
            "F1 Score:0.5201793721973094\n"
          ]
        }
      ]
    },
    {
      "cell_type": "code",
      "source": [
        "previsao=features_scale[2155:]\n",
        "\n",
        "game_id_full=data['game_id']\n",
        "game_id=game_id_full[2155:]\n",
        "\n",
        "res_full=data['Res']\n",
        "res=res_full[2155:]\n",
        "\n",
        "\n",
        "pred=clf_SVC.predict(previsao)\n",
        "\n",
        "df=pd.DataFrame({'real': res, 'previsao':pred, 'game_id':game_id})\n",
        "\n",
        "print(df)"
      ],
      "metadata": {
        "colab": {
          "base_uri": "https://localhost:8080/"
        },
        "id": "082feKyoO2KC",
        "outputId": "e7e8aa7b-b6b3-4a5b-ee82-04b6328da6c5"
      },
      "execution_count": 19,
      "outputs": [
        {
          "output_type": "stream",
          "name": "stdout",
          "text": [
            "      real  previsao  game_id\n",
            "2155     1         1     2156\n",
            "2156     1         1     2157\n",
            "2157     2         2     2158\n",
            "2158     1         1     2159\n",
            "2159     1         1     2160\n",
            "...    ...       ...      ...\n",
            "2274     0         0     2275\n",
            "2275     0         0     2276\n",
            "2276     1         1     2277\n",
            "2277     1         1     2278\n",
            "2278     2         1     2279\n",
            "\n",
            "[124 rows x 3 columns]\n"
          ]
        }
      ]
    },
    {
      "cell_type": "code",
      "source": [
        "df=pd.DataFrame(df,columns=['real','previsao' ])\n",
        "\n",
        "cf_matrix=pd.crosstab(df['real'], df['previsao'], rownames=['real'] , colnames=['previsao'])\n",
        "\n",
        "sns.heatmap(cf_matrix, annot=True, cmap='Blues')"
      ],
      "metadata": {
        "colab": {
          "base_uri": "https://localhost:8080/",
          "height": 296
        },
        "id": "ZI77p19jPCbJ",
        "outputId": "21bf667b-5369-4a32-a294-71fc9b9f8d86"
      },
      "execution_count": 20,
      "outputs": [
        {
          "output_type": "execute_result",
          "data": {
            "text/plain": [
              "<matplotlib.axes._subplots.AxesSubplot at 0x7f379ced7550>"
            ]
          },
          "metadata": {},
          "execution_count": 20
        },
        {
          "output_type": "display_data",
          "data": {
            "text/plain": [
              "<Figure size 432x288 with 2 Axes>"
            ],
            "image/png": "[encoded data removed]"
          },
          "metadata": {
            "needs_background": "light"
          }
        }
      ]
    },
    {
      "cell_type": "code",
      "source": [
        ""
      ],
      "metadata": {
        "id": "-abqdsJGPFfC"
      },
      "execution_count": null,
      "outputs": []
    }
  ]
}